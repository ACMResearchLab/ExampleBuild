{
 "cells": [
  {
   "cell_type": "markdown",
   "metadata": {},
   "source": [
    "# Grad-CAM\n",
    "TensorFlow 2.X implementation of [Grad-CAM](https://arxiv.org/pdf/1610.02391.pdf), an approach for model explainability which produces a heatmap of which regions of an image contributed strongly towards the final prediction."
   ]
  },
  {
   "cell_type": "code",
   "execution_count": 1,
   "metadata": {
    "tags": []
   },
   "outputs": [],
   "source": [
    "%matplotlib inline"
   ]
  },
  {
   "cell_type": "code",
   "execution_count": 3,
   "metadata": {
    "tags": []
   },
   "outputs": [],
   "source": [
    "import random\n",
    "import numpy as np\n",
    "import matplotlib.pyplot as plt\n",
    "import os"
   ]
  },
  {
   "cell_type": "code",
   "execution_count": 2,
   "metadata": {
    "tags": []
   },
   "outputs": [],
   "source": [
    "import tensorflow as tf\n",
    "from tensorflow.keras.preprocessing.image import load_img\n",
    "from tensorflow.keras.applications.resnet50 import (\n",
    "    ResNet50,\n",
    "    preprocess_input,\n",
    "    decode_predictions,\n",
    ")\n",
    "import cv2"
   ]
  },
  {
   "cell_type": "markdown",
   "metadata": {},
   "source": [
    "The Grad-CAM output is an activation map which localises the detected objected to a region in the image. It is of width $u$ and height $v$, for the class $c$.\n",
    "$$\n",
    "L^{c}_{\\textrm{Grad-CAM}} \\in \\mathbb{R}^{u \\times v}\n",
    "$$"
   ]
  },
  {
   "cell_type": "code",
   "execution_count": 1,
   "metadata": {
    "tags": []
   },
   "outputs": [],
   "source": [
    "import os\n",
    "import numpy as np\n",
    "import cv2\n",
    "import tensorflow as tf\n",
    "from tensorflow.keras.preprocessing.image import load_img\n",
    "from tensorflow.keras.applications import ResNet50\n",
    "from tensorflow.keras.models import load_model\n",
    "import matplotlib.pyplot as plt\n"
   ]
  },
  {
   "cell_type": "code",
   "execution_count": 6,
   "metadata": {
    "tags": []
   },
   "outputs": [
    {
     "name": "stderr",
     "output_type": "stream",
     "text": [
      "WARNING:absl:At this time, the v2.11+ optimizer `tf.keras.optimizers.Adam` runs slowly on M1/M2 Macs, please use the legacy Keras optimizer instead, located at `tf.keras.optimizers.legacy.Adam`.\n",
      "WARNING:absl:There is a known slowdown when using v2.11+ Keras optimizers on M1/M2 Macs. Falling back to the legacy Keras optimizer, i.e., `tf.keras.optimizers.legacy.Adam`.\n"
     ]
    },
    {
     "name": "stdout",
     "output_type": "stream",
     "text": [
      "WARNING:tensorflow:Error in loading the saved optimizer state. As a result, your model is starting with a freshly initialized optimizer.\n"
     ]
    },
    {
     "name": "stderr",
     "output_type": "stream",
     "text": [
      "WARNING:tensorflow:Error in loading the saved optimizer state. As a result, your model is starting with a freshly initialized optimizer.\n"
     ]
    },
    {
     "name": "stdout",
     "output_type": "stream",
     "text": [
      "Model: \"sequential\"\n",
      "_________________________________________________________________\n",
      " Layer (type)                Output Shape              Param #   \n",
      "=================================================================\n",
      " conv2d (Conv2D)             (None, 196, 296, 128)     12928     \n",
      "                                                                 \n",
      " conv2d_1 (Conv2D)           (None, 192, 292, 256)     819456    \n",
      "                                                                 \n",
      " conv2d_2 (Conv2D)           (None, 188, 288, 512)     3277312   \n",
      "                                                                 \n",
      " dense (Dense)               (None, 188, 288, 3)       1539      \n",
      "                                                                 \n",
      "=================================================================\n",
      "Total params: 4111235 (15.68 MB)\n",
      "Trainable params: 4111235 (15.68 MB)\n",
      "Non-trainable params: 0 (0.00 Byte)\n",
      "_________________________________________________________________\n",
      "Number of classes: 3\n"
     ]
    }
   ],
   "source": [
    "model_path = \"Model_Alpha.h5\"\n",
    "model = load_model(model_path)\n",
    "model.summary()\n",
    "classifier_input = tf.keras.Input(shape=model.output.shape[1:])\n",
    "num_classes = classifier_input.shape[-1]\n",
    "print(\"Number of classes:\", num_classes)\n"
   ]
  },
  {
   "cell_type": "code",
   "execution_count": 28,
   "metadata": {
    "tags": []
   },
   "outputs": [
    {
     "name": "stderr",
     "output_type": "stream",
     "text": [
      "/Users/estherlan/anaconda3/lib/python3.11/site-packages/keras/src/engine/training.py:3000: UserWarning: You are saving your model as an HDF5 file via `model.save()`. This file format is considered legacy. We recommend using instead the native Keras format, e.g. `model.save('my_model.keras')`.\n",
      "  saving_api.save_model(\n",
      "WARNING:absl:At this time, the v2.11+ optimizer `tf.keras.optimizers.Adam` runs slowly on M1/M2 Macs, please use the legacy Keras optimizer instead, located at `tf.keras.optimizers.legacy.Adam`.\n",
      "WARNING:absl:There is a known slowdown when using v2.11+ Keras optimizers on M1/M2 Macs. Falling back to the legacy Keras optimizer, i.e., `tf.keras.optimizers.legacy.Adam`.\n"
     ]
    },
    {
     "name": "stdout",
     "output_type": "stream",
     "text": [
      "WARNING:tensorflow:Error in loading the saved optimizer state. As a result, your model is starting with a freshly initialized optimizer.\n"
     ]
    },
    {
     "name": "stderr",
     "output_type": "stream",
     "text": [
      "WARNING:tensorflow:Error in loading the saved optimizer state. As a result, your model is starting with a freshly initialized optimizer.\n",
      "WARNING:matplotlib.image:Clipping input data to the valid range for imshow with RGB data ([0..1] for floats or [0..255] for integers).\n",
      "WARNING:matplotlib.image:Clipping input data to the valid range for imshow with RGB data ([0..1] for floats or [0..255] for integers).\n",
      "WARNING:matplotlib.image:Clipping input data to the valid range for imshow with RGB data ([0..1] for floats or [0..255] for integers).\n",
      "WARNING:matplotlib.image:Clipping input data to the valid range for imshow with RGB data ([0..1] for floats or [0..255] for integers).\n",
      "WARNING:matplotlib.image:Clipping input data to the valid range for imshow with RGB data ([0..1] for floats or [0..255] for integers).\n",
      "WARNING:matplotlib.image:Clipping input data to the valid range for imshow with RGB data ([0..1] for floats or [0..255] for integers).\n",
      "WARNING:matplotlib.image:Clipping input data to the valid range for imshow with RGB data ([0..1] for floats or [0..255] for integers).\n",
      "WARNING:matplotlib.image:Clipping input data to the valid range for imshow with RGB data ([0..1] for floats or [0..255] for integers).\n",
      "WARNING:matplotlib.image:Clipping input data to the valid range for imshow with RGB data ([0..1] for floats or [0..255] for integers).\n",
      "WARNING:matplotlib.image:Clipping input data to the valid range for imshow with RGB data ([0..1] for floats or [0..255] for integers).\n",
      "WARNING:matplotlib.image:Clipping input data to the valid range for imshow with RGB data ([0..1] for floats or [0..255] for integers).\n",
      "WARNING:matplotlib.image:Clipping input data to the valid range for imshow with RGB data ([0..1] for floats or [0..255] for integers).\n",
      "WARNING:matplotlib.image:Clipping input data to the valid range for imshow with RGB data ([0..1] for floats or [0..255] for integers).\n",
      "WARNING:matplotlib.image:Clipping input data to the valid range for imshow with RGB data ([0..1] for floats or [0..255] for integers).\n",
      "WARNING:matplotlib.image:Clipping input data to the valid range for imshow with RGB data ([0..1] for floats or [0..255] for integers).\n",
      "WARNING:matplotlib.image:Clipping input data to the valid range for imshow with RGB data ([0..1] for floats or [0..255] for integers).\n",
      "WARNING:matplotlib.image:Clipping input data to the valid range for imshow with RGB data ([0..1] for floats or [0..255] for integers).\n",
      "WARNING:matplotlib.image:Clipping input data to the valid range for imshow with RGB data ([0..1] for floats or [0..255] for integers).\n",
      "WARNING:matplotlib.image:Clipping input data to the valid range for imshow with RGB data ([0..1] for floats or [0..255] for integers).\n",
      "WARNING:matplotlib.image:Clipping input data to the valid range for imshow with RGB data ([0..1] for floats or [0..255] for integers).\n",
      "WARNING:matplotlib.image:Clipping input data to the valid range for imshow with RGB data ([0..1] for floats or [0..255] for integers).\n",
      "WARNING:matplotlib.image:Clipping input data to the valid range for imshow with RGB data ([0..1] for floats or [0..255] for integers).\n",
      "WARNING:matplotlib.image:Clipping input data to the valid range for imshow with RGB data ([0..1] for floats or [0..255] for integers).\n",
      "WARNING:matplotlib.image:Clipping input data to the valid range for imshow with RGB data ([0..1] for floats or [0..255] for integers).\n"
     ]
    },
    {
     "data": {
      "image/png": "[encoded data removed]",
      "text/plain": [
       "<Figure size 1500x1500 with 25 Axes>"
      ]
     },
     "metadata": {},
     "output_type": "display_data"
    }
   ],
   "source": [
    "import os\n",
    "import numpy as np\n",
    "import cv2\n",
    "import tensorflow as tf\n",
    "from tensorflow.keras.preprocessing.image import load_img\n",
    "from tensorflow.keras.models import load_model\n",
    "import matplotlib.pyplot as plt\n",
    "model.save(\"Model_Alpha_v2.h5\")\n",
    "# Set the directory containing the images\n",
    "directory = \"../data/\"\n",
    "\n",
    "# Get a list of all files in the directory\n",
    "file_list = os.listdir(directory)\n",
    "\n",
    "# Load your model from the file \"Model_Alpha.h5\"\n",
    "model_path = \"Model_Alpha.h5\"\n",
    "model = load_model(model_path)\n",
    "#model = ResNet50()\n",
    "\n",
    "# Load and display each image with its GradCAM visualization\n",
    "num_images = min(len(file_list), 25)  # Limit to 25 images if there are more\n",
    "\n",
    "# Determine the number of rows and columns\n",
    "n = int(np.ceil(np.sqrt(num_images)))\n",
    "\n",
    "# Create a figure with a grid layout\n",
    "fig, axes = plt.subplots(n, n, figsize=(n*3, n*3))  # Adjust the multiplier to change the size of the images\n",
    "fig.subplots_adjust(hspace=0.1, wspace=0.1)  # Set the spacing between subplots\n",
    "\n",
    "for i in range(num_images):\n",
    "    filename = file_list[i]\n",
    "    image_path = os.path.join(directory, filename)\n",
    "    try:\n",
    "        image = np.array(load_img(image_path, target_size=(200, 300)))\n",
    "        alpha_channel = np.ones((image.shape[0], image.shape[1], 1)) * 255\n",
    "        image = np.concatenate([image, alpha_channel], axis=-1)\n",
    "    except Exception as e:\n",
    "        continue\n",
    "\n",
    "    # Replace the layer names with the correct names from your model\n",
    "    last_conv_layer = model.get_layer('conv2d_2')\n",
    "    last_conv_layer_model = tf.keras.Model(model.inputs, last_conv_layer.output)\n",
    "    classifier_input = tf.keras.Input(shape=last_conv_layer.output.shape[1:])\n",
    "    x = classifier_input\n",
    "    for layer_name in [\"dense\"]:\n",
    "        x = model.get_layer(layer_name)(x)\n",
    "    classifier_model = tf.keras.Model(classifier_input, x)\n",
    "\n",
    "    with tf.GradientTape() as tape:\n",
    "        inputs = image[np.newaxis, ...]\n",
    "        last_conv_layer_output = last_conv_layer_model(inputs)\n",
    "        tape.watch(last_conv_layer_output)\n",
    "        preds = classifier_model(last_conv_layer_output)\n",
    "        num_classes = preds.shape[1]\n",
    "        batch_index = 0  # Assuming you are interested in the prediction for the first image in the batch\n",
    "        top_pred_index = tf.argmax(preds[batch_index]).numpy()[0]\n",
    "        top_pred_index = top_pred_index[0]\n",
    "        top_class_channel = preds[0, top_pred_index]\n",
    "\n",
    "        grads = tape.gradient(top_class_channel, last_conv_layer_output)\n",
    "        pooled_grads = tf.reduce_mean(grads, axis=(0, 1, 2))\n",
    "        last_conv_layer_output = last_conv_layer_output[0].numpy()  # Convert to NumPy array\n",
    "        pooled_grads = pooled_grads.numpy()\n",
    "\n",
    "        for j in range(pooled_grads.shape[-1]):\n",
    "            last_conv_layer_output[:, :, j] *= pooled_grads[j]\n",
    "\n",
    "        # Average over all the filters to get a a 2D array\n",
    "        gradcam = np.mean(last_conv_layer_output, axis=-1)\n",
    "        # Clip the values (equivalent to applying ReLU)\n",
    "        # and then normalize the values\n",
    "        gradcam = np.clip(gradcam, 0, np.max(gradcam)) / np.max(gradcam)\n",
    "        gradcam = cv2.resize(gradcam, (224, 224))\n",
    "\n",
    "        # Plot the original image with GradCAM overlay\n",
    "        ax = axes[i // n, i % n]\n",
    "        ax.imshow(image)\n",
    "        ax.imshow(gradcam, alpha=0.5, cmap=\"jet\")\n",
    "        ax.axis(\"off\")\n",
    "\n",
    "\n",
    "# Hide any empty subplots\n",
    "for i in range(num_images, n * n):\n",
    "    axes[i // n, i % n].axis(\"off\")\n",
    "    axes[i // n, i % n].set_visible(False)\n",
    "\n",
    "plt.tight_layout()\n",
    "plt.show()\n"
   ]
  },
  {
   "cell_type": "markdown",
   "metadata": {},
   "source": [
    "We get the output of the last convolution layer. We then create a model that goes up to only that layer."
   ]
  },
  {
   "cell_type": "markdown",
   "metadata": {},
   "source": [
    "We create a model which then takes the output of the model above, and uses the remaining layers to get the final predictions."
   ]
  },
  {
   "cell_type": "markdown",
   "metadata": {},
   "source": [
    "First, we get the output from the model up till the last convolution layer.\n",
    "We ask `tf` to watch this tensor output, as we want to calculate the gradients of the predictions of our target class wrt to the output of this model (last convolution layer model)."
   ]
  },
  {
   "cell_type": "markdown",
   "metadata": {},
   "source": [
    "The partial derivative / gradient of the model output (logits / prior to softmax), $y^{c}$, with respect to the feature map (filter) activations of a specified convolution layer (the last convolution layer in this case) is:\n",
    "$$\n",
    "\\frac{\\partial y^{c}}{\\partial A^{k}_{ij}}\n",
    "$$"
   ]
  },
  {
   "cell_type": "markdown",
   "metadata": {},
   "source": [
    "The gradients have a shape of `(u,v,Z)`, where `(u,v)` comes from the shape of the 2D convolution filter (i.e. width and height), and `Z` is the number of filters. The next step averages each of the filters to a single value, so that the final shape is `Z` or the number of filters. This is equivalent to the global average pooling 2D layer.\n",
    "\n",
    "$$\n",
    "\\alpha_{k}^{c}=\\frac{1}{Z}\\sum_{i}\\sum_{j}\\frac{\\partial y^{c}}{\\partial A^{k}_{ij}}\n",
    "$$\n",
    "\n",
    "Each one of these gradients represents the connection from one of the pixels in the 2D array to the neuron / output representing the target class."
   ]
  },
  {
   "cell_type": "markdown",
   "metadata": {},
   "source": [
    "This is what the next layer in the model does which is a global average pooling 2D layer, which  averages and flattens the $z$ number of filters of $u \\times v$ shape to single numbers (exactly what we did in previous step). This is necessary to create a connection to the fully connected (Dense) layers for the final prediction outputs."
   ]
  },
  {
   "cell_type": "markdown",
   "metadata": {},
   "source": [
    "The next step is to multiply the gradients (corresponding to the importance of the given feature map / filter) with the actual feature map (filter) it represents.\n",
    "\n",
    "$$\n",
    "ReLU\\bigg(\\sum_{k} a^{c}_{k}A^{k}\\bigg)\n",
    "$$"
   ]
  },
  {
   "cell_type": "markdown",
   "metadata": {},
   "source": [
    "# Counterfactual explanation"
   ]
  },
  {
   "cell_type": "markdown",
   "metadata": {},
   "source": [
    "By negating the value of $\\frac{\\partial y^{c}}{\\partial A^{k}}$, we can produce a map of regions that would lower the network's confidence in its prediction. This is useful when two competing objects are present in the image. We can produce a \"counterfactual\" image with these regions masked out, which should give a higher confidence in the original prediction."
   ]
  },
  {
   "cell_type": "code",
   "execution_count": null,
   "metadata": {},
   "outputs": [],
   "source": [
    "multiobject_image = np.array(\n",
    "    load_img(\"../data/cat_and_dog.jpg\", target_size=(224, 224, 3))\n",
    ")"
   ]
  },
  {
   "cell_type": "code",
   "execution_count": null,
   "metadata": {},
   "outputs": [],
   "source": [
    "with tf.GradientTape() as tape:\n",
    "    last_conv_layer_output = last_conv_layer_model(multiobject_image[np.newaxis, ...])\n",
    "    tape.watch(last_conv_layer_output)\n",
    "    preds = classifier_model(last_conv_layer_output)\n",
    "    top_pred_index = tf.argmax(preds[0])\n",
    "    top_class_channel = preds[:, top_pred_index]"
   ]
  },
  {
   "cell_type": "code",
   "execution_count": null,
   "metadata": {},
   "outputs": [],
   "source": [
    "grads = tape.gradient(top_class_channel, last_conv_layer_output)"
   ]
  },
  {
   "cell_type": "markdown",
   "metadata": {},
   "source": [
    "The negative of the gradients is taken, to target the regions that do not contribute towards strengthen the network's predictions."
   ]
  },
  {
   "cell_type": "code",
   "execution_count": null,
   "metadata": {},
   "outputs": [],
   "source": [
    "pooled_grads = tf.reduce_mean(-1 * grads, axis=(0, 1, 2))"
   ]
  },
  {
   "cell_type": "code",
   "execution_count": null,
   "metadata": {},
   "outputs": [],
   "source": [
    "last_conv_layer_output = last_conv_layer_output.numpy()[0]\n",
    "pooled_grads = pooled_grads.numpy()\n",
    "for i in range(pooled_grads.shape[-1]):\n",
    "    last_conv_layer_output[:, :, i] *= pooled_grads[i]"
   ]
  },
  {
   "cell_type": "code",
   "execution_count": null,
   "metadata": {},
   "outputs": [],
   "source": [
    "# Average over all the filters to get a single 2D array\n",
    "ctfcl_gradcam = np.mean(last_conv_layer_output, axis=-1)\n",
    "# Normalise the values\n",
    "ctfcl_gradcam = np.clip(ctfcl_gradcam, 0, np.max(ctfcl_gradcam)) / np.max(ctfcl_gradcam)\n",
    "ctfcl_gradcam = cv2.resize(ctfcl_gradcam, (224, 224))"
   ]
  },
  {
   "cell_type": "code",
   "execution_count": null,
   "metadata": {},
   "outputs": [],
   "source": [
    "plt.imshow(multiobject_image)\n",
    "plt.imshow(ctfcl_gradcam, alpha=0.5)"
   ]
  },
  {
   "cell_type": "markdown",
   "metadata": {},
   "source": [
    "We can mask out the region identified by the counterfactual map, and re-run the predictions, where we should see a higher confidence in the outputs."
   ]
  },
  {
   "cell_type": "code",
   "execution_count": null,
   "metadata": {},
   "outputs": [],
   "source": [
    "mask = cv2.resize(ctfcl_gradcam, (224, 224))\n",
    "mask[mask > 0.1] = 255\n",
    "mask[mask != 255] = 0\n",
    "mask = mask.astype(bool)"
   ]
  },
  {
   "cell_type": "code",
   "execution_count": null,
   "metadata": {},
   "outputs": [],
   "source": [
    "ctfctl_image = multiobject_image.copy()\n",
    "ctfctl_image[mask] = (0, 0, 0)"
   ]
  },
  {
   "cell_type": "code",
   "execution_count": null,
   "metadata": {},
   "outputs": [],
   "source": [
    "plt.imshow(ctfctl_image)"
   ]
  },
  {
   "cell_type": "code",
   "execution_count": null,
   "metadata": {},
   "outputs": [],
   "source": [
    "decode_predictions(model.predict(image[np.newaxis, ...]))"
   ]
  },
  {
   "cell_type": "code",
   "execution_count": null,
   "metadata": {},
   "outputs": [],
   "source": [
    "decode_predictions(model.predict(ctfctl_image[np.newaxis, ...]))"
   ]
  },
  {
   "cell_type": "markdown",
   "metadata": {},
   "source": [
    "---"
   ]
  },
  {
   "cell_type": "markdown",
   "metadata": {},
   "source": [
    "# Guided Grad-CAM"
   ]
  },
  {
   "cell_type": "markdown",
   "metadata": {},
   "source": [
    "The Grad-CAM output can be improved further by combining with guided backpropagation, which zeroes elements in the gradients which act negatively towards the decision. Implementation from Raphael Meudec / [Sicara](https://www.sicara.ai/blog/2019-08-28-interpretability-deep-learning-tensorflow), [GitHub Gist](https://gist.github.com/RaphaelMeudec/e9a805fa82880876f8d89766f0690b54).\n",
    "\n",
    "This output, however, is still a low resolution heatmap, and not quite as described in the original paper. The original paper"
   ]
  },
  {
   "cell_type": "code",
   "execution_count": null,
   "metadata": {},
   "outputs": [],
   "source": [
    "with tf.GradientTape() as tape:\n",
    "    last_conv_layer_output = last_conv_layer_model(image[np.newaxis, ...])\n",
    "    tape.watch(last_conv_layer_output)\n",
    "    preds = classifier_model(last_conv_layer_output)\n",
    "    top_pred_index = tf.argmax(preds[0])\n",
    "    top_class_channel = preds[:, top_pred_index]"
   ]
  },
  {
   "cell_type": "code",
   "execution_count": null,
   "metadata": {},
   "outputs": [],
   "source": [
    "grads = tape.gradient(top_class_channel, last_conv_layer_output)[0]\n",
    "last_conv_layer_output = last_conv_layer_output[0]"
   ]
  },
  {
   "cell_type": "markdown",
   "metadata": {},
   "source": [
    "Guided backpropagation implementation:"
   ]
  },
  {
   "cell_type": "code",
   "execution_count": null,
   "metadata": {},
   "outputs": [],
   "source": [
    "guided_grads = (\n",
    "    tf.cast(last_conv_layer_output > 0, \"float32\")\n",
    "    * tf.cast(grads > 0, \"float32\")\n",
    "    * grads\n",
    ")"
   ]
  },
  {
   "cell_type": "code",
   "execution_count": null,
   "metadata": {},
   "outputs": [],
   "source": [
    "pooled_guided_grads = tf.reduce_mean(guided_grads, axis=(0, 1))\n",
    "guided_gradcam = np.ones(last_conv_layer_output.shape[:2], dtype=np.float32)"
   ]
  },
  {
   "cell_type": "code",
   "execution_count": null,
   "metadata": {},
   "outputs": [],
   "source": [
    "for i, w in enumerate(pooled_guided_grads):\n",
    "    guided_gradcam += w * last_conv_layer_output[:, :, i]"
   ]
  },
  {
   "cell_type": "code",
   "execution_count": null,
   "metadata": {},
   "outputs": [],
   "source": [
    "guided_gradcam = cv2.resize(guided_gradcam.numpy(), (224, 224))"
   ]
  },
  {
   "cell_type": "code",
   "execution_count": null,
   "metadata": {},
   "outputs": [],
   "source": [
    "guided_gradcam = np.clip(guided_gradcam, 0, np.max(guided_gradcam))\n",
    "guided_gradcam = (guided_gradcam - guided_gradcam.min()) / (\n",
    "    guided_gradcam.max() - guided_gradcam.min()\n",
    ")"
   ]
  },
  {
   "cell_type": "code",
   "execution_count": null,
   "metadata": {},
   "outputs": [],
   "source": [
    "plt.imshow(image)\n",
    "plt.imshow(guided_gradcam, alpha=0.5)"
   ]
  },
  {
   "cell_type": "markdown",
   "metadata": {},
   "source": [
    "---"
   ]
  },
  {
   "cell_type": "markdown",
   "metadata": {},
   "source": [
    "# Guided Grad-CAM (high resolution maps)\n",
    "This approach reflects the paper's description better by first using the guided backpropagation approach to produce a high resolution map that is of the same resolution of the input image, which is then masked using the Grad-CAM heatmap to focus only on details that led to the prediction outcome. Based on the implementation on GitHub by [jacobgil](https://github.com/jacobgil/keras-grad-cam/blob/master/grad-cam.py)."
   ]
  },
  {
   "cell_type": "code",
   "execution_count": null,
   "metadata": {},
   "outputs": [],
   "source": [
    "@tf.custom_gradient\n",
    "def guided_relu(x):\n",
    "    def grad(dy):\n",
    "        return tf.cast(dy > 0, \"float32\") * tf.cast(x > 0, \"float32\") * dy\n",
    "\n",
    "    return tf.nn.relu(x), grad"
   ]
  },
  {
   "cell_type": "code",
   "execution_count": null,
   "metadata": {},
   "outputs": [],
   "source": [
    "class GuidedBackprop:\n",
    "    def __init__(self, model, layer_name: str):\n",
    "        self.model = model\n",
    "        self.layer_name = layer_name\n",
    "        self.gb_model = self.build_guided_model()\n",
    "\n",
    "    def build_guided_model(self):\n",
    "        gb_model = tf.keras.Model(\n",
    "            self.model.inputs, self.model.get_layer(self.layer_name).output\n",
    "        )\n",
    "        layers = [\n",
    "            layer for layer in gb_model.layers[1:] if hasattr(layer, \"activation\")\n",
    "        ]\n",
    "        for layer in layers:\n",
    "            if layer.activation == tf.keras.activations.relu:\n",
    "                layer.activation = guided_relu\n",
    "        return gb_model\n",
    "\n",
    "    def guided_backprop(self, image: np.ndarray):\n",
    "        with tf.GradientTape() as tape:\n",
    "            inputs = tf.cast(image, tf.float32)\n",
    "            tape.watch(inputs)\n",
    "            outputs = self.gb_model(inputs)\n",
    "        grads = tape.gradient(outputs, inputs)[0]\n",
    "        return grads"
   ]
  },
  {
   "cell_type": "code",
   "execution_count": null,
   "metadata": {},
   "outputs": [],
   "source": [
    "gb = GuidedBackprop(model, \"conv5_block3_out\")"
   ]
  },
  {
   "cell_type": "code",
   "execution_count": null,
   "metadata": {},
   "outputs": [],
   "source": [
    "saliency_map = gb.guided_backprop(image[np.newaxis, ...]).numpy()\n",
    "saliency_map = saliency_map * np.repeat(guided_gradcam[..., np.newaxis], 3, axis=2)"
   ]
  },
  {
   "cell_type": "code",
   "execution_count": null,
   "metadata": {},
   "outputs": [],
   "source": [
    "saliency_map -= saliency_map.mean()\n",
    "saliency_map /= saliency_map.std() + tf.keras.backend.epsilon()\n",
    "saliency_map *= 0.25\n",
    "saliency_map += 0.5\n",
    "saliency_map = np.clip(saliency_map, 0, 1)\n",
    "saliency_map *= (2 ** 8) - 1\n",
    "saliency_map = saliency_map.astype(np.uint8)"
   ]
  },
  {
   "cell_type": "code",
   "execution_count": null,
   "metadata": {
    "tags": []
   },
   "outputs": [],
   "source": [
    "plt.imshow(saliency_map)"
   ]
  }
 ],
 "metadata": {
  "kernelspec": {
   "display_name": "Python 3 (ipykernel)",
   "language": "python",
   "name": "python3"
  },
  "language_info": {
   "codemirror_mode": {
    "name": "ipython",
    "version": 3
   },
   "file_extension": ".py",
   "mimetype": "text/x-python",
   "name": "python",
   "nbconvert_exporter": "python",
   "pygments_lexer": "ipython3",
   "version": "3.11.3"
  },
  "widgets": {
   "application/vnd.jupyter.widget-state+json": {
    "state": {},
    "version_major": 2,
    "version_minor": 0
   }
  }
 },
 "nbformat": 4,
 "nbformat_minor": 4
}
